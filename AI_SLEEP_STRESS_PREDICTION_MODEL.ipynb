{
  "nbformat": 4,
  "nbformat_minor": 0,
  "metadata": {
    "colab": {
      "provenance": []
    },
    "kernelspec": {
      "name": "python3",
      "display_name": "Python 3"
    },
    "language_info": {
      "name": "python"
    }
  },
  "cells": [
    {
      "cell_type": "markdown",
      "source": [
        "importing packages required to build the model"
      ],
      "metadata": {
        "id": "sfD4aB51rw5U"
      }
    },
    {
      "cell_type": "code",
      "execution_count": null,
      "metadata": {
        "id": "evXDYKvtRHu6"
      },
      "outputs": [],
      "source": [
        "import pandas as pd\n",
        "import numpy as np\n",
        "import matplotlib.pyplot as plt\n",
        "import seaborn as sns"
      ]
    },
    {
      "cell_type": "markdown",
      "source": [
        "reading the data\n"
      ],
      "metadata": {
        "id": "tVs7074krcLr"
      }
    },
    {
      "cell_type": "code",
      "source": [
        "data = pd.read_csv(\"parameters.csv\")"
      ],
      "metadata": {
        "id": "6OYxCESnRzD3"
      },
      "execution_count": null,
      "outputs": []
    },
    {
      "cell_type": "code",
      "source": [
        "print(data.describe())\n",
        "print(data.info())"
      ],
      "metadata": {
        "colab": {
          "base_uri": "https://localhost:8080/"
        },
        "id": "d8AiXHuDR4OX",
        "outputId": "da0f1e31-0e42-4df2-9f94-c525c21c7448"
      },
      "execution_count": null,
      "outputs": [
        {
          "output_type": "stream",
          "name": "stdout",
          "text": [
            "               sr          rr          t          lm          bo         rem  \\\n",
            "count  630.000000  630.000000  630.00000  630.000000  630.000000  630.000000   \n",
            "mean    71.600000   21.800000   92.80000   11.700000   90.900000   88.500000   \n",
            "std     19.372833    3.966111    3.52969    4.299629    3.902483   11.893747   \n",
            "min     45.000000   16.000000   85.00000    4.000000   82.000000   60.000000   \n",
            "25%     52.500000   18.500000   90.50000    8.500000   88.500000   81.250000   \n",
            "50%     70.000000   21.000000   93.00000   11.000000   91.000000   90.000000   \n",
            "75%     91.250000   25.000000   95.50000   15.750000   94.250000   98.750000   \n",
            "max    100.000000   30.000000   99.00000   19.000000   97.000000  105.000000   \n",
            "\n",
            "             sr.1          hr          sl  \n",
            "count  630.000000  630.000000  630.000000  \n",
            "mean     3.700000   64.500000    2.000000  \n",
            "std      3.054572    9.915277    1.415337  \n",
            "min      0.000000   50.000000    0.000000  \n",
            "25%      0.500000   56.250000    1.000000  \n",
            "50%      3.500000   62.500000    2.000000  \n",
            "75%      6.500000   72.500000    3.000000  \n",
            "max      9.000000   85.000000    4.000000  \n",
            "<class 'pandas.core.frame.DataFrame'>\n",
            "RangeIndex: 630 entries, 0 to 629\n",
            "Data columns (total 9 columns):\n",
            " #   Column  Non-Null Count  Dtype  \n",
            "---  ------  --------------  -----  \n",
            " 0   sr      630 non-null    float64\n",
            " 1   rr      630 non-null    float64\n",
            " 2   t       630 non-null    float64\n",
            " 3   lm      630 non-null    float64\n",
            " 4   bo      630 non-null    float64\n",
            " 5   rem     630 non-null    float64\n",
            " 6   sr.1    630 non-null    float64\n",
            " 7   hr      630 non-null    float64\n",
            " 8   sl      630 non-null    int64  \n",
            "dtypes: float64(8), int64(1)\n",
            "memory usage: 44.4 KB\n",
            "None\n"
          ]
        }
      ]
    },
    {
      "cell_type": "code",
      "source": [
        "name = [\"snoring rate\", \"respiration rate\", \"body temperature\", \"limb movement\", \"blood oxygen\", \"eye movement\",\n",
        "        \"sleeping hours\", \"heart rate\", \"stress level\"]\n",
        "data.columns = name"
      ],
      "metadata": {
        "id": "boYdQ-EPSOa6"
      },
      "execution_count": null,
      "outputs": []
    },
    {
      "cell_type": "code",
      "source": [
        "data.isnull().any()"
      ],
      "metadata": {
        "colab": {
          "base_uri": "https://localhost:8080/"
        },
        "id": "EPYe5aY-SROR",
        "outputId": "bc4f96f1-279c-4e21-c384-2c7b0baebd57"
      },
      "execution_count": null,
      "outputs": [
        {
          "output_type": "execute_result",
          "data": {
            "text/plain": [
              "snoring rate        False\n",
              "respiration rate    False\n",
              "body temperature    False\n",
              "limb movement       False\n",
              "blood oxygen        False\n",
              "eye movement        False\n",
              "sleeping hours      False\n",
              "heart rate          False\n",
              "stress level        False\n",
              "dtype: bool"
            ]
          },
          "metadata": {},
          "execution_count": 5
        }
      ]
    },
    {
      "cell_type": "markdown",
      "source": [
        "defining shape of the array"
      ],
      "metadata": {
        "id": "dk1VXjjJr8_t"
      }
    },
    {
      "cell_type": "code",
      "source": [
        "data.shape"
      ],
      "metadata": {
        "colab": {
          "base_uri": "https://localhost:8080/"
        },
        "id": "7M9952f4SWvE",
        "outputId": "3a4df34e-a6c4-4a98-f06a-e427012d15b9"
      },
      "execution_count": null,
      "outputs": [
        {
          "output_type": "execute_result",
          "data": {
            "text/plain": [
              "(630, 9)"
            ]
          },
          "metadata": {},
          "execution_count": 6
        }
      ]
    },
    {
      "cell_type": "code",
      "source": [
        "data.head()"
      ],
      "metadata": {
        "colab": {
          "base_uri": "https://localhost:8080/",
          "height": 206
        },
        "id": "T5o9pScrSZq8",
        "outputId": "acd38cac-58ed-4635-c163-200a2936b27e"
      },
      "execution_count": null,
      "outputs": [
        {
          "output_type": "execute_result",
          "data": {
            "text/plain": [
              "   snoring rate  respiration rate  body temperature  limb movement  \\\n",
              "0         93.80            25.680            91.840         16.600   \n",
              "1         91.64            25.104            91.552         15.880   \n",
              "2         60.00            20.000            96.000         10.000   \n",
              "3         85.76            23.536            90.768         13.920   \n",
              "4         48.12            17.248            97.872          6.496   \n",
              "\n",
              "   blood oxygen  eye movement  sleeping hours  heart rate  stress level  \n",
              "0        89.840         99.60           1.840       74.20             3  \n",
              "1        89.552         98.88           1.552       72.76             3  \n",
              "2        95.000         85.00           7.000       60.00             1  \n",
              "3        88.768         96.92           0.768       68.84             3  \n",
              "4        96.248         72.48           8.248       53.12             0  "
            ],
            "text/html": [
              "\n",
              "  <div id=\"df-af714fb6-1494-47f9-b9d7-b6735131bb20\">\n",
              "    <div class=\"colab-df-container\">\n",
              "      <div>\n",
              "<style scoped>\n",
              "    .dataframe tbody tr th:only-of-type {\n",
              "        vertical-align: middle;\n",
              "    }\n",
              "\n",
              "    .dataframe tbody tr th {\n",
              "        vertical-align: top;\n",
              "    }\n",
              "\n",
              "    .dataframe thead th {\n",
              "        text-align: right;\n",
              "    }\n",
              "</style>\n",
              "<table border=\"1\" class=\"dataframe\">\n",
              "  <thead>\n",
              "    <tr style=\"text-align: right;\">\n",
              "      <th></th>\n",
              "      <th>snoring rate</th>\n",
              "      <th>respiration rate</th>\n",
              "      <th>body temperature</th>\n",
              "      <th>limb movement</th>\n",
              "      <th>blood oxygen</th>\n",
              "      <th>eye movement</th>\n",
              "      <th>sleeping hours</th>\n",
              "      <th>heart rate</th>\n",
              "      <th>stress level</th>\n",
              "    </tr>\n",
              "  </thead>\n",
              "  <tbody>\n",
              "    <tr>\n",
              "      <th>0</th>\n",
              "      <td>93.80</td>\n",
              "      <td>25.680</td>\n",
              "      <td>91.840</td>\n",
              "      <td>16.600</td>\n",
              "      <td>89.840</td>\n",
              "      <td>99.60</td>\n",
              "      <td>1.840</td>\n",
              "      <td>74.20</td>\n",
              "      <td>3</td>\n",
              "    </tr>\n",
              "    <tr>\n",
              "      <th>1</th>\n",
              "      <td>91.64</td>\n",
              "      <td>25.104</td>\n",
              "      <td>91.552</td>\n",
              "      <td>15.880</td>\n",
              "      <td>89.552</td>\n",
              "      <td>98.88</td>\n",
              "      <td>1.552</td>\n",
              "      <td>72.76</td>\n",
              "      <td>3</td>\n",
              "    </tr>\n",
              "    <tr>\n",
              "      <th>2</th>\n",
              "      <td>60.00</td>\n",
              "      <td>20.000</td>\n",
              "      <td>96.000</td>\n",
              "      <td>10.000</td>\n",
              "      <td>95.000</td>\n",
              "      <td>85.00</td>\n",
              "      <td>7.000</td>\n",
              "      <td>60.00</td>\n",
              "      <td>1</td>\n",
              "    </tr>\n",
              "    <tr>\n",
              "      <th>3</th>\n",
              "      <td>85.76</td>\n",
              "      <td>23.536</td>\n",
              "      <td>90.768</td>\n",
              "      <td>13.920</td>\n",
              "      <td>88.768</td>\n",
              "      <td>96.92</td>\n",
              "      <td>0.768</td>\n",
              "      <td>68.84</td>\n",
              "      <td>3</td>\n",
              "    </tr>\n",
              "    <tr>\n",
              "      <th>4</th>\n",
              "      <td>48.12</td>\n",
              "      <td>17.248</td>\n",
              "      <td>97.872</td>\n",
              "      <td>6.496</td>\n",
              "      <td>96.248</td>\n",
              "      <td>72.48</td>\n",
              "      <td>8.248</td>\n",
              "      <td>53.12</td>\n",
              "      <td>0</td>\n",
              "    </tr>\n",
              "  </tbody>\n",
              "</table>\n",
              "</div>\n",
              "      <button class=\"colab-df-convert\" onclick=\"convertToInteractive('df-af714fb6-1494-47f9-b9d7-b6735131bb20')\"\n",
              "              title=\"Convert this dataframe to an interactive table.\"\n",
              "              style=\"display:none;\">\n",
              "        \n",
              "  <svg xmlns=\"http://www.w3.org/2000/svg\" height=\"24px\"viewBox=\"0 0 24 24\"\n",
              "       width=\"24px\">\n",
              "    <path d=\"M0 0h24v24H0V0z\" fill=\"none\"/>\n",
              "    <path d=\"M18.56 5.44l.94 2.06.94-2.06 2.06-.94-2.06-.94-.94-2.06-.94 2.06-2.06.94zm-11 1L8.5 8.5l.94-2.06 2.06-.94-2.06-.94L8.5 2.5l-.94 2.06-2.06.94zm10 10l.94 2.06.94-2.06 2.06-.94-2.06-.94-.94-2.06-.94 2.06-2.06.94z\"/><path d=\"M17.41 7.96l-1.37-1.37c-.4-.4-.92-.59-1.43-.59-.52 0-1.04.2-1.43.59L10.3 9.45l-7.72 7.72c-.78.78-.78 2.05 0 2.83L4 21.41c.39.39.9.59 1.41.59.51 0 1.02-.2 1.41-.59l7.78-7.78 2.81-2.81c.8-.78.8-2.07 0-2.86zM5.41 20L4 18.59l7.72-7.72 1.47 1.35L5.41 20z\"/>\n",
              "  </svg>\n",
              "      </button>\n",
              "      \n",
              "  <style>\n",
              "    .colab-df-container {\n",
              "      display:flex;\n",
              "      flex-wrap:wrap;\n",
              "      gap: 12px;\n",
              "    }\n",
              "\n",
              "    .colab-df-convert {\n",
              "      background-color: #E8F0FE;\n",
              "      border: none;\n",
              "      border-radius: 50%;\n",
              "      cursor: pointer;\n",
              "      display: none;\n",
              "      fill: #1967D2;\n",
              "      height: 32px;\n",
              "      padding: 0 0 0 0;\n",
              "      width: 32px;\n",
              "    }\n",
              "\n",
              "    .colab-df-convert:hover {\n",
              "      background-color: #E2EBFA;\n",
              "      box-shadow: 0px 1px 2px rgba(60, 64, 67, 0.3), 0px 1px 3px 1px rgba(60, 64, 67, 0.15);\n",
              "      fill: #174EA6;\n",
              "    }\n",
              "\n",
              "    [theme=dark] .colab-df-convert {\n",
              "      background-color: #3B4455;\n",
              "      fill: #D2E3FC;\n",
              "    }\n",
              "\n",
              "    [theme=dark] .colab-df-convert:hover {\n",
              "      background-color: #434B5C;\n",
              "      box-shadow: 0px 1px 3px 1px rgba(0, 0, 0, 0.15);\n",
              "      filter: drop-shadow(0px 1px 2px rgba(0, 0, 0, 0.3));\n",
              "      fill: #FFFFFF;\n",
              "    }\n",
              "  </style>\n",
              "\n",
              "      <script>\n",
              "        const buttonEl =\n",
              "          document.querySelector('#df-af714fb6-1494-47f9-b9d7-b6735131bb20 button.colab-df-convert');\n",
              "        buttonEl.style.display =\n",
              "          google.colab.kernel.accessAllowed ? 'block' : 'none';\n",
              "\n",
              "        async function convertToInteractive(key) {\n",
              "          const element = document.querySelector('#df-af714fb6-1494-47f9-b9d7-b6735131bb20');\n",
              "          const dataTable =\n",
              "            await google.colab.kernel.invokeFunction('convertToInteractive',\n",
              "                                                     [key], {});\n",
              "          if (!dataTable) return;\n",
              "\n",
              "          const docLinkHtml = 'Like what you see? Visit the ' +\n",
              "            '<a target=\"_blank\" href=https://colab.research.google.com/notebooks/data_table.ipynb>data table notebook</a>'\n",
              "            + ' to learn more about interactive tables.';\n",
              "          element.innerHTML = '';\n",
              "          dataTable['output_type'] = 'display_data';\n",
              "          await google.colab.output.renderOutput(dataTable, element);\n",
              "          const docLink = document.createElement('div');\n",
              "          docLink.innerHTML = docLinkHtml;\n",
              "          element.appendChild(docLink);\n",
              "        }\n",
              "      </script>\n",
              "    </div>\n",
              "  </div>\n",
              "  "
            ]
          },
          "metadata": {},
          "execution_count": 7
        }
      ]
    },
    {
      "cell_type": "code",
      "source": [
        "from sklearn.model_selection import train_test_split"
      ],
      "metadata": {
        "id": "1SGCqFZ0S-6S"
      },
      "execution_count": null,
      "outputs": []
    },
    {
      "cell_type": "code",
      "source": [
        "print(data['stress level'].value_counts())\n",
        "x_values = data[[\"snoring rate\", \"respiration rate\", \"body temperature\", \"limb movement\", \"blood oxygen\", \"eye movement\",\n",
        "               \"sleeping hours\", \"heart rate\"]]\n",
        "y_values = data['stress level']"
      ],
      "metadata": {
        "colab": {
          "base_uri": "https://localhost:8080/"
        },
        "id": "TUAsIrquTA6w",
        "outputId": "67fef0ca-ca48-41a7-9938-ad9789b8bd3f"
      },
      "execution_count": null,
      "outputs": [
        {
          "output_type": "stream",
          "name": "stdout",
          "text": [
            "3    126\n",
            "1    126\n",
            "0    126\n",
            "2    126\n",
            "4    126\n",
            "Name: stress level, dtype: int64\n"
          ]
        }
      ]
    },
    {
      "cell_type": "code",
      "source": [
        "x_train, x_test, y_train, y_test = train_test_split(x_values,y_values,test_size=0.25,random_state=10)\n",
        "x_train.shape, x_test.shape"
      ],
      "metadata": {
        "colab": {
          "base_uri": "https://localhost:8080/"
        },
        "id": "RMJxo_e1TO5Q",
        "outputId": "8b4fc1ac-d6b2-4b3b-c97b-980f28a3d1a0"
      },
      "execution_count": null,
      "outputs": [
        {
          "output_type": "execute_result",
          "data": {
            "text/plain": [
              "((472, 8), (158, 8))"
            ]
          },
          "metadata": {},
          "execution_count": 10
        }
      ]
    },
    {
      "cell_type": "code",
      "source": [
        "from sklearn.preprocessing import StandardScaler"
      ],
      "metadata": {
        "id": "gzx-XywAT61J"
      },
      "execution_count": null,
      "outputs": []
    },
    {
      "cell_type": "code",
      "source": [
        "x_train, x_test, y_train, y_test = train_test_split(x_values,y_values,test_size=0.3,random_state=10)\n",
        "scaler = StandardScaler()\n",
        "x_train_scale = scaler.fit_transform(x_train)\n",
        "x_test_scale = scaler.transform(x_test)"
      ],
      "metadata": {
        "id": "8KJEjXH6UDh9"
      },
      "execution_count": null,
      "outputs": []
    },
    {
      "cell_type": "markdown",
      "source": [
        "**label encoding**: converted to binary matrices to convert data to machine readable form"
      ],
      "metadata": {
        "id": "5-_0mJPfwAEU"
      }
    },
    {
      "cell_type": "code",
      "source": [
        "from tensorflow.keras.utils import to_categorical"
      ],
      "metadata": {
        "id": "j2B4jzMNUsNv"
      },
      "execution_count": null,
      "outputs": []
    },
    {
      "cell_type": "code",
      "source": [
        "num_levels=5\n",
        "y_train=to_categorical(y_train, num_levels)\n",
        "y_test=to_categorical(y_test, num_levels)\n",
        "y_train[:5]"
      ],
      "metadata": {
        "colab": {
          "base_uri": "https://localhost:8080/"
        },
        "id": "FcjTarOXWfPb",
        "outputId": "59c5b01f-1646-4323-d93e-a23410abced3"
      },
      "execution_count": null,
      "outputs": [
        {
          "output_type": "execute_result",
          "data": {
            "text/plain": [
              "array([[1., 0., 0., 0., 0.],\n",
              "       [0., 0., 0., 0., 1.],\n",
              "       [0., 0., 1., 0., 0.],\n",
              "       [1., 0., 0., 0., 0.],\n",
              "       [0., 1., 0., 0., 0.]], dtype=float32)"
            ]
          },
          "metadata": {},
          "execution_count": 14
        }
      ]
    },
    {
      "cell_type": "markdown",
      "source": [
        "**tensorflow**: library for numerical computing"
      ],
      "metadata": {
        "id": "_j_iUKdXwYbB"
      }
    },
    {
      "cell_type": "markdown",
      "source": [
        "**keras**: package to help beulid the numerical data"
      ],
      "metadata": {
        "id": "uP2IZfkYweuC"
      }
    },
    {
      "cell_type": "markdown",
      "source": [
        "**sequential**: create layer by layer model"
      ],
      "metadata": {
        "id": "7h4wUPgGwti0"
      }
    },
    {
      "cell_type": "markdown",
      "source": [
        "**dense**: perform process on the input and output layers"
      ],
      "metadata": {
        "id": "Yq3mEzsww5ot"
      }
    },
    {
      "cell_type": "markdown",
      "source": [
        "**dropuout**: helps in generalisation so data is trained on evenly at each point"
      ],
      "metadata": {
        "id": "oL9OCYCOxCCI"
      }
    },
    {
      "cell_type": "code",
      "source": [
        "from tensorflow.keras.models import Sequential\n",
        "from tensorflow.keras.layers import Dense, Dropout"
      ],
      "metadata": {
        "id": "-jx0G7lLWh85"
      },
      "execution_count": null,
      "outputs": []
    },
    {
      "cell_type": "markdown",
      "source": [
        "**relu**: helps focus on each neuron at a time"
      ],
      "metadata": {
        "id": "UzCdFuKoxWqF"
      }
    },
    {
      "cell_type": "markdown",
      "source": [
        "**softmax**: helps maximise performance of neural network"
      ],
      "metadata": {
        "id": "xx-hWBZGxgr3"
      }
    },
    {
      "cell_type": "code",
      "source": [
        "model=Sequential()\n",
        "model.add(Dense(125, activation=\"relu\"))\n",
        "model.add(Dense(125, activation=\"relu\"))\n",
        "model.add(Dense(5, \"softmax\"))"
      ],
      "metadata": {
        "id": "Au6mTUlyWkYd"
      },
      "execution_count": null,
      "outputs": []
    },
    {
      "cell_type": "markdown",
      "source": [
        "**epoch**: no. of times it will go through the dataset during training"
      ],
      "metadata": {
        "id": "Emc025CMxpiO"
      }
    },
    {
      "cell_type": "markdown",
      "source": [
        "**cross-entropy**: to evaluate loss function for one-hot encoded (binary) labels"
      ],
      "metadata": {
        "id": "yzkp2IFdyDJS"
      }
    },
    {
      "cell_type": "markdown",
      "source": [
        "**adam optimizer**: adaptative moment estimation - used to optimize model to best fit using the stochastic gradient descent (finds parameters for best fit)"
      ],
      "metadata": {
        "id": "KFfiELwuy4ZW"
      }
    },
    {
      "cell_type": "code",
      "source": [
        "epochs = 50\n",
        "model.compile(loss='categorical_crossentropy', optimizer='adam', metrics=['accuracy'])\n",
        "stats=model.fit(x_train, y_train, epochs=epochs, shuffle=True, batch_size=1, validation_split=0.2)"
      ],
      "metadata": {
        "colab": {
          "base_uri": "https://localhost:8080/"
        },
        "id": "OI8HRptNXDIU",
        "outputId": "3feb1fce-e3a6-4fd6-8a85-98363fc6a38c"
      },
      "execution_count": null,
      "outputs": [
        {
          "output_type": "stream",
          "name": "stdout",
          "text": [
            "Epoch 1/50\n",
            "352/352 [==============================] - 2s 3ms/step - loss: 3.2198 - accuracy: 0.5256 - val_loss: 1.4489 - val_accuracy: 0.5281\n",
            "Epoch 2/50\n",
            "352/352 [==============================] - 1s 3ms/step - loss: 0.5332 - accuracy: 0.8636 - val_loss: 2.1626 - val_accuracy: 0.5281\n",
            "Epoch 3/50\n",
            "352/352 [==============================] - 1s 2ms/step - loss: 0.6259 - accuracy: 0.8636 - val_loss: 0.0162 - val_accuracy: 1.0000\n",
            "Epoch 4/50\n",
            "352/352 [==============================] - 1s 2ms/step - loss: 0.0151 - accuracy: 1.0000 - val_loss: 0.0125 - val_accuracy: 1.0000\n",
            "Epoch 5/50\n",
            "352/352 [==============================] - 1s 2ms/step - loss: 0.0113 - accuracy: 1.0000 - val_loss: 0.0107 - val_accuracy: 1.0000\n",
            "Epoch 6/50\n",
            "352/352 [==============================] - 1s 4ms/step - loss: 0.0122 - accuracy: 1.0000 - val_loss: 0.0104 - val_accuracy: 1.0000\n",
            "Epoch 7/50\n",
            "352/352 [==============================] - 2s 4ms/step - loss: 0.0074 - accuracy: 1.0000 - val_loss: 0.0068 - val_accuracy: 1.0000\n",
            "Epoch 8/50\n",
            "352/352 [==============================] - 2s 5ms/step - loss: 0.0065 - accuracy: 1.0000 - val_loss: 0.0043 - val_accuracy: 1.0000\n",
            "Epoch 9/50\n",
            "352/352 [==============================] - 2s 5ms/step - loss: 0.0052 - accuracy: 1.0000 - val_loss: 0.0035 - val_accuracy: 1.0000\n",
            "Epoch 10/50\n",
            "352/352 [==============================] - 2s 5ms/step - loss: 0.0054 - accuracy: 1.0000 - val_loss: 0.0030 - val_accuracy: 1.0000\n",
            "Epoch 11/50\n",
            "352/352 [==============================] - 1s 4ms/step - loss: 0.7613 - accuracy: 0.8807 - val_loss: 3.4162 - val_accuracy: 0.7640\n",
            "Epoch 12/50\n",
            "352/352 [==============================] - 2s 5ms/step - loss: 0.2420 - accuracy: 0.9574 - val_loss: 0.0116 - val_accuracy: 1.0000\n",
            "Epoch 13/50\n",
            "352/352 [==============================] - 2s 5ms/step - loss: 0.0089 - accuracy: 1.0000 - val_loss: 0.0062 - val_accuracy: 1.0000\n",
            "Epoch 14/50\n",
            "352/352 [==============================] - 2s 5ms/step - loss: 0.0054 - accuracy: 1.0000 - val_loss: 0.0043 - val_accuracy: 1.0000\n",
            "Epoch 15/50\n",
            "352/352 [==============================] - 2s 5ms/step - loss: 0.0040 - accuracy: 1.0000 - val_loss: 0.0031 - val_accuracy: 1.0000\n",
            "Epoch 16/50\n",
            "352/352 [==============================] - 2s 6ms/step - loss: 0.0030 - accuracy: 1.0000 - val_loss: 0.0030 - val_accuracy: 1.0000\n",
            "Epoch 17/50\n",
            "352/352 [==============================] - 2s 5ms/step - loss: 0.0022 - accuracy: 1.0000 - val_loss: 0.0018 - val_accuracy: 1.0000\n",
            "Epoch 18/50\n",
            "352/352 [==============================] - 2s 5ms/step - loss: 0.0018 - accuracy: 1.0000 - val_loss: 0.0015 - val_accuracy: 1.0000\n",
            "Epoch 19/50\n",
            "352/352 [==============================] - 2s 6ms/step - loss: 0.0015 - accuracy: 1.0000 - val_loss: 0.0014 - val_accuracy: 1.0000\n",
            "Epoch 20/50\n",
            "352/352 [==============================] - 2s 5ms/step - loss: 0.0011 - accuracy: 1.0000 - val_loss: 0.0012 - val_accuracy: 1.0000\n",
            "Epoch 21/50\n",
            "352/352 [==============================] - 2s 6ms/step - loss: 9.4739e-04 - accuracy: 1.0000 - val_loss: 7.4366e-04 - val_accuracy: 1.0000\n",
            "Epoch 22/50\n",
            "352/352 [==============================] - 2s 5ms/step - loss: 7.5858e-04 - accuracy: 1.0000 - val_loss: 5.7778e-04 - val_accuracy: 1.0000\n",
            "Epoch 23/50\n",
            "352/352 [==============================] - 2s 5ms/step - loss: 5.4424e-04 - accuracy: 1.0000 - val_loss: 5.0177e-04 - val_accuracy: 1.0000\n",
            "Epoch 24/50\n",
            "352/352 [==============================] - 2s 5ms/step - loss: 4.6709e-04 - accuracy: 1.0000 - val_loss: 4.9078e-04 - val_accuracy: 1.0000\n",
            "Epoch 25/50\n",
            "352/352 [==============================] - 2s 5ms/step - loss: 3.6722e-04 - accuracy: 1.0000 - val_loss: 3.4055e-04 - val_accuracy: 1.0000\n",
            "Epoch 26/50\n",
            "352/352 [==============================] - 1s 2ms/step - loss: 2.9875e-04 - accuracy: 1.0000 - val_loss: 2.3354e-04 - val_accuracy: 1.0000\n",
            "Epoch 27/50\n",
            "352/352 [==============================] - 1s 2ms/step - loss: 2.3108e-04 - accuracy: 1.0000 - val_loss: 2.3067e-04 - val_accuracy: 1.0000\n",
            "Epoch 28/50\n",
            "352/352 [==============================] - 1s 2ms/step - loss: 2.0049e-04 - accuracy: 1.0000 - val_loss: 1.5929e-04 - val_accuracy: 1.0000\n",
            "Epoch 29/50\n",
            "352/352 [==============================] - 1s 2ms/step - loss: 1.5806e-04 - accuracy: 1.0000 - val_loss: 1.4255e-04 - val_accuracy: 1.0000\n",
            "Epoch 30/50\n",
            "352/352 [==============================] - 1s 2ms/step - loss: 1.6060e-04 - accuracy: 1.0000 - val_loss: 1.0361e-04 - val_accuracy: 1.0000\n",
            "Epoch 31/50\n",
            "352/352 [==============================] - 1s 2ms/step - loss: 1.0194e-04 - accuracy: 1.0000 - val_loss: 8.3339e-05 - val_accuracy: 1.0000\n",
            "Epoch 32/50\n",
            "352/352 [==============================] - 1s 2ms/step - loss: 8.9168e-05 - accuracy: 1.0000 - val_loss: 7.6567e-05 - val_accuracy: 1.0000\n",
            "Epoch 33/50\n",
            "352/352 [==============================] - 1s 2ms/step - loss: 7.0657e-05 - accuracy: 1.0000 - val_loss: 5.8227e-05 - val_accuracy: 1.0000\n",
            "Epoch 34/50\n",
            "352/352 [==============================] - 1s 2ms/step - loss: 7.6910e-05 - accuracy: 1.0000 - val_loss: 5.7244e-05 - val_accuracy: 1.0000\n",
            "Epoch 35/50\n",
            "352/352 [==============================] - 1s 2ms/step - loss: 4.6929e-05 - accuracy: 1.0000 - val_loss: 3.7039e-05 - val_accuracy: 1.0000\n",
            "Epoch 36/50\n",
            "352/352 [==============================] - 1s 2ms/step - loss: 3.7129e-05 - accuracy: 1.0000 - val_loss: 3.3803e-05 - val_accuracy: 1.0000\n",
            "Epoch 37/50\n",
            "352/352 [==============================] - 1s 2ms/step - loss: 3.1351e-05 - accuracy: 1.0000 - val_loss: 2.4961e-05 - val_accuracy: 1.0000\n",
            "Epoch 38/50\n",
            "352/352 [==============================] - 1s 2ms/step - loss: 2.7535e-05 - accuracy: 1.0000 - val_loss: 2.1337e-05 - val_accuracy: 1.0000\n",
            "Epoch 39/50\n",
            "352/352 [==============================] - 1s 2ms/step - loss: 2.4859e-05 - accuracy: 1.0000 - val_loss: 1.6762e-05 - val_accuracy: 1.0000\n",
            "Epoch 40/50\n",
            "352/352 [==============================] - 1s 2ms/step - loss: 0.2351 - accuracy: 0.9602 - val_loss: 9.1566e-04 - val_accuracy: 1.0000\n",
            "Epoch 41/50\n",
            "352/352 [==============================] - 1s 2ms/step - loss: 7.6990e-04 - accuracy: 1.0000 - val_loss: 4.8883e-04 - val_accuracy: 1.0000\n",
            "Epoch 42/50\n",
            "352/352 [==============================] - 1s 2ms/step - loss: 5.2209e-04 - accuracy: 1.0000 - val_loss: 3.9383e-04 - val_accuracy: 1.0000\n",
            "Epoch 43/50\n",
            "352/352 [==============================] - 1s 2ms/step - loss: 3.9621e-04 - accuracy: 1.0000 - val_loss: 3.1299e-04 - val_accuracy: 1.0000\n",
            "Epoch 44/50\n",
            "352/352 [==============================] - 1s 2ms/step - loss: 2.9783e-04 - accuracy: 1.0000 - val_loss: 2.2079e-04 - val_accuracy: 1.0000\n",
            "Epoch 45/50\n",
            "352/352 [==============================] - 1s 2ms/step - loss: 2.4150e-04 - accuracy: 1.0000 - val_loss: 1.8888e-04 - val_accuracy: 1.0000\n",
            "Epoch 46/50\n",
            "352/352 [==============================] - 1s 2ms/step - loss: 1.8608e-04 - accuracy: 1.0000 - val_loss: 1.3343e-04 - val_accuracy: 1.0000\n",
            "Epoch 47/50\n",
            "352/352 [==============================] - 1s 2ms/step - loss: 1.4847e-04 - accuracy: 1.0000 - val_loss: 1.2031e-04 - val_accuracy: 1.0000\n",
            "Epoch 48/50\n",
            "352/352 [==============================] - 1s 2ms/step - loss: 1.1675e-04 - accuracy: 1.0000 - val_loss: 9.6686e-05 - val_accuracy: 1.0000\n",
            "Epoch 49/50\n",
            "352/352 [==============================] - 1s 2ms/step - loss: 9.2311e-05 - accuracy: 1.0000 - val_loss: 7.5766e-05 - val_accuracy: 1.0000\n",
            "Epoch 50/50\n",
            "352/352 [==============================] - 1s 2ms/step - loss: 7.5118e-05 - accuracy: 1.0000 - val_loss: 6.4803e-05 - val_accuracy: 1.0000\n"
          ]
        }
      ]
    },
    {
      "cell_type": "code",
      "source": [
        "accuracy=model.evaluate(x_test, y_test)"
      ],
      "metadata": {
        "id": "_LfKEGI9XUOW",
        "colab": {
          "base_uri": "https://localhost:8080/"
        },
        "outputId": "09e81a8f-2d9f-47eb-9cf1-7557d679e3e0"
      },
      "execution_count": null,
      "outputs": [
        {
          "output_type": "stream",
          "name": "stdout",
          "text": [
            "6/6 [==============================] - 0s 3ms/step - loss: 7.0322e-05 - accuracy: 1.0000\n"
          ]
        }
      ]
    },
    {
      "cell_type": "code",
      "source": [
        "model_data=pd.DataFrame(stats.history)\n",
        "model_data['epoch']=list(range(epochs))\n",
        "sns.lineplot(y='loss', x='epoch', data=model_data, label=\"Training loss\")\n",
        "sns.lineplot(y='val_loss', x='epoch', data=model_data, label=\"Validation loss\")\n",
        "plt.grid()\n",
        "plt.legend()\n",
        "plt.title(\"Training and validation loss\")\n",
        "plt.xticks(range(0, 51, 5));"
      ],
      "metadata": {
        "id": "8lsAPUC6Xm_g",
        "colab": {
          "base_uri": "https://localhost:8080/",
          "height": 295
        },
        "outputId": "f8c86001-1b37-4e6b-c524-a2848d4379d0"
      },
      "execution_count": null,
      "outputs": [
        {
          "output_type": "display_data",
          "data": {
            "text/plain": [
              "<Figure size 432x288 with 1 Axes>"
            ],
            "image/png": "[encoded data removed]"
          },
          "metadata": {
            "needs_background": "light"
          }
        }
      ]
    },
    {
      "cell_type": "code",
      "source": [
        "model_data=pd.DataFrame(stats.history)\n",
        "model_data['epoch']=list(range(epochs))\n",
        "sns.lineplot(y='accuracy', x='epoch', data=model_data, label=\"Training accuracy\")\n",
        "sns.lineplot(y='val_accuracy', x='epoch', data=model_data, label=\"Validation accuracy\")\n",
        "plt.grid()\n",
        "plt.legend()\n",
        "plt.title(\"Training and validation accuracy\")\n",
        "plt.xticks(range(0, 51, 5));"
      ],
      "metadata": {
        "id": "kZ_tYH-dZmRP",
        "colab": {
          "base_uri": "https://localhost:8080/",
          "height": 295
        },
        "outputId": "32f1632b-c4b8-4f6f-a3b3-e670c68a5a97"
      },
      "execution_count": null,
      "outputs": [
        {
          "output_type": "display_data",
          "data": {
            "text/plain": [
              "<Figure size 432x288 with 1 Axes>"
            ],
            "image/png": "[encoded data removed]"
          },
          "metadata": {
            "needs_background": "light"
          }
        }
      ]
    }
  ]
}